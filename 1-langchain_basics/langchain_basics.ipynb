{
 "cells": [
  {
   "cell_type": "markdown",
   "id": "b23e11fe",
   "metadata": {},
   "source": [
    "Getting Started With Langchain\n",
    "\n",
    "1 simple llm calls with \n",
    "\n",
    "2 Dynamic prompt templet (translation app)\n",
    "\n",
    "3 Building chains (story generator with analysis)\n",
    "\n",
    "4 conversational Q&A assitant with memory\n",
    "\n",
    "5 Toll intigration(calculator & weather)\n"
   ]
  },
  {
   "cell_type": "code",
   "execution_count": 7,
   "id": "48429a47",
   "metadata": {},
   "outputs": [],
   "source": [
    "import langchain"
   ]
  },
  {
   "cell_type": "code",
   "execution_count": 8,
   "id": "448c613d",
   "metadata": {},
   "outputs": [
    {
     "data": {
      "text/plain": [
       "True"
      ]
     },
     "execution_count": 8,
     "metadata": {},
     "output_type": "execute_result"
    }
   ],
   "source": [
    "import os\n",
    "from dotenv import load_dotenv\n",
    "load_dotenv()"
   ]
  },
  {
   "cell_type": "code",
   "execution_count": 9,
   "id": "7a6909bf",
   "metadata": {},
   "outputs": [],
   "source": [
    "os.environ['GROQ_API_KEY'] = os.getenv(\"GROQ_API_KEY\")"
   ]
  },
  {
   "cell_type": "markdown",
   "id": "d605b211",
   "metadata": {},
   "source": [
    "### Example 1: Simple LLM call With streaming"
   ]
  },
  {
   "cell_type": "code",
   "execution_count": 10,
   "id": "3d0e0248",
   "metadata": {},
   "outputs": [],
   "source": [
    "from langchain.chat_models import init_chat_model\n",
    "from langchain_core.messages import HumanMessage, SystemMessage\n"
   ]
  },
  {
   "cell_type": "code",
   "execution_count": 11,
   "id": "95ca50c6",
   "metadata": {},
   "outputs": [
    {
     "data": {
      "text/plain": [
       "ChatGroq(client=<groq.resources.chat.completions.Completions object at 0x0000019A769B4590>, async_client=<groq.resources.chat.completions.AsyncCompletions object at 0x0000019A769B5160>, model_name='llama-3.1-8b-instant', model_kwargs={}, groq_api_key=SecretStr('**********'))"
      ]
     },
     "execution_count": 11,
     "metadata": {},
     "output_type": "execute_result"
    }
   ],
   "source": [
    "model = init_chat_model(\"groq:llama-3.1-8b-instant\")\n",
    "model"
   ]
  },
  {
   "cell_type": "code",
   "execution_count": 12,
   "id": "8d6d5f5f",
   "metadata": {},
   "outputs": [],
   "source": [
    "messages = [\n",
    "    SystemMessage(\"You are a helpful AI assitant\"),\n",
    "    HumanMessage(\"what are the top 2 benifits of using langchain\")\n",
    "]"
   ]
  },
  {
   "cell_type": "code",
   "execution_count": 13,
   "id": "2747ee4b",
   "metadata": {},
   "outputs": [
    {
     "data": {
      "text/plain": [
       "AIMessage(content='LangChain is a Python framework for building, training, and deploying large language models. The top 2 benefits of using LangChain are:\\n\\n1. **Efficient Model Training and Deployment**: LangChain provides a simple and efficient way to train and deploy large language models. It supports popular deep learning frameworks like PyTorch and TensorFlow, and allows users to easily integrate their models with other tools and services. This makes it easier to develop and deploy high-quality language models that can be used for a wide range of applications.\\n\\n2. **Modular and Extensible Architecture**: LangChain has a modular architecture that makes it easy to extend and customize the framework to meet specific use cases. It provides a range of pre-built components and tools that can be used to build and integrate different types of language models, including conversational AI, text classification, and language translation. This flexibility makes it an attractive choice for developers who need to build complex language models that require customization and fine-tuning.\\n\\nThese benefits enable developers to quickly and efficiently build and deploy high-quality language models that meet the needs of their specific applications.', additional_kwargs={}, response_metadata={'token_usage': {'completion_tokens': 221, 'prompt_tokens': 55, 'total_tokens': 276, 'completion_time': 0.364717108, 'prompt_time': 0.003261275, 'queue_time': 0.048325505, 'total_time': 0.367978383}, 'model_name': 'llama-3.1-8b-instant', 'system_fingerprint': 'fp_510c177af0', 'finish_reason': 'stop', 'logprobs': None}, id='run--96c109e3-a268-40e7-853d-1b898fe07ccb-0', usage_metadata={'input_tokens': 55, 'output_tokens': 221, 'total_tokens': 276})"
      ]
     },
     "execution_count": 13,
     "metadata": {},
     "output_type": "execute_result"
    }
   ],
   "source": [
    "response=model.invoke(messages)\n",
    "response"
   ]
  },
  {
   "cell_type": "code",
   "execution_count": 14,
   "id": "41088b0f",
   "metadata": {},
   "outputs": [
    {
     "data": {
      "text/plain": [
       "'LangChain is a Python framework for building, training, and deploying large language models. The top 2 benefits of using LangChain are:\\n\\n1. **Efficient Model Training and Deployment**: LangChain provides a simple and efficient way to train and deploy large language models. It supports popular deep learning frameworks like PyTorch and TensorFlow, and allows users to easily integrate their models with other tools and services. This makes it easier to develop and deploy high-quality language models that can be used for a wide range of applications.\\n\\n2. **Modular and Extensible Architecture**: LangChain has a modular architecture that makes it easy to extend and customize the framework to meet specific use cases. It provides a range of pre-built components and tools that can be used to build and integrate different types of language models, including conversational AI, text classification, and language translation. This flexibility makes it an attractive choice for developers who need to build complex language models that require customization and fine-tuning.\\n\\nThese benefits enable developers to quickly and efficiently build and deploy high-quality language models that meet the needs of their specific applications.'"
      ]
     },
     "execution_count": 14,
     "metadata": {},
     "output_type": "execute_result"
    }
   ],
   "source": [
    "response.content"
   ]
  },
  {
   "cell_type": "code",
   "execution_count": 15,
   "id": "e3543fe8",
   "metadata": {},
   "outputs": [
    {
     "data": {
      "text/plain": [
       "\"Machine learning is a subset of artificial intelligence (AI) that involves the use of algorithms and statistical models to enable machines to learn from data, make decisions, and improve their performance on a task over time. It's a field of study that combines computer science, mathematics, and statistics to develop systems that can analyze and interpret data, identify patterns, and make predictions or take actions based on that data.\\n\\nMachine learning is often categorized into three main types:\\n\\n1. **Supervised learning**: In this type of learning, the machine is trained on labeled data, where the correct output is already known. The machine learns to map inputs to outputs based on the labeled data and can make predictions on new, unseen data.\\n2. **Unsupervised learning**: In this type of learning, the machine is trained on unlabeled data, and it must find patterns or relationships in the data on its own.\\n3. **Reinforcement learning**: In this type of learning, the machine learns by interacting with an environment and receiving feedback in the form of rewards or penalties.\\n\\nMachine learning has many applications, including:\\n\\n1. **Image and speech recognition**: Machines can learn to recognize objects, faces, and speech patterns.\\n2. **Natural language processing**: Machines can learn to understand and generate human language.\\n3. **Predictive maintenance**: Machines can learn to predict when equipment is likely to fail, allowing for proactive maintenance.\\n4. **Recommendation systems**: Machines can learn to recommend products or services based on user behavior and preferences.\\n5. **Self-driving cars**: Machines can learn to navigate and drive vehicles safely.\\n\\nMachine learning involves several key concepts, including:\\n\\n1. **Algorithms**: Machine learning algorithms are used to analyze and process data.\\n2. **Data**: Machine learning relies on large datasets to learn and improve.\\n3. **Model**: A machine learning model is a mathematical representation of the relationship between inputs and outputs.\\n4. **Training**: Machine learning models are trained on data to learn patterns and relationships.\\n5. **Testing**: Machine learning models are tested on new, unseen data to evaluate their performance.\\n\\nSome popular machine learning techniques include:\\n\\n1. **Decision trees**: A decision tree is a tree-like model that splits data into smaller subsets based on features.\\n2. **Random forests**: A random forest is an ensemble of decision trees that combines their predictions.\\n3. **Neural networks**: A neural network is a complex model inspired by the human brain, consisting of layers of interconnected nodes.\\n4. **Support vector machines**: A support vector machine is a model that finds the best hyperplane to separate classes.\\n\\nMachine learning has many benefits, including:\\n\\n1. **Improved accuracy**: Machine learning models can make accurate predictions and decisions.\\n2. **Increased efficiency**: Machine learning can automate many tasks, freeing up human time and resources.\\n3. **Enhanced decision-making**: Machine learning can provide insights and recommendations to support human decision-making.\\n\\nHowever, machine learning also has some challenges and limitations, including:\\n\\n1. **Data quality**: Machine learning requires high-quality data to learn and improve.\\n2. **Overfitting**: Machine learning models can overfit the training data, leading to poor performance on new data.\\n3. **Bias**: Machine learning models can perpetuate biases present in the training data.\\n4. **Explainability**: Machine learning models can be difficult to interpret and explain.\\n\\nOverall, machine learning is a powerful field that has the potential to transform many industries and aspects of our lives.\""
      ]
     },
     "execution_count": 15,
     "metadata": {},
     "output_type": "execute_result"
    }
   ],
   "source": [
    "model.invoke([HumanMessage(\"what is machine learning ?\")]).content"
   ]
  },
  {
   "cell_type": "code",
   "execution_count": 16,
   "id": "488b1900",
   "metadata": {},
   "outputs": [
    {
     "name": "stdout",
     "output_type": "stream",
     "text": [
      "Langchain is an open-source artificial intelligence framework that enables users to build more human-like AI models. Here are the top 2 benefits of using Langchain:\n",
      "\n",
      "1. **Improved Contextual Understanding**: Langchain's ability to integrate multiple AI models and generate coherent responses enables it to better understand complex contexts and nuances in language. This results in more accurate and insightful responses, which is particularly beneficial for applications that require deep understanding and reasoning, such as:\n",
      "\t* Conversational AI\n",
      "\t* Chatbots\n",
      "\t* Virtual Assistants\n",
      "\t* Language translation\n",
      "2. **Enhanced Creativity and Productivity**: Langchain's modular architecture and ability to leverage multiple AI models can help users generate novel ideas, summarize complex information, and automate repetitive tasks. This can lead to increased productivity and creativity in various domains, such as:\n",
      "\t* Content generation (e.g., articles, social media posts, emails)\n",
      "\t* Research and development\n",
      "\t* Data analysis and visualization\n",
      "\t* Creative writing and design\n",
      "\n",
      "By leveraging Langchain's capabilities, users can unlock new possibilities for AI-driven innovation and problem-solving."
     ]
    }
   ],
   "source": [
    "for chunk in model.stream(messages):\n",
    "    print(chunk.content, end=\"\", flush=True)"
   ]
  },
  {
   "cell_type": "markdown",
   "id": "532899cb",
   "metadata": {},
   "source": [
    "### Dynamic Prompt Templet \n"
   ]
  },
  {
   "cell_type": "code",
   "execution_count": 17,
   "id": "bf14c1ac",
   "metadata": {},
   "outputs": [],
   "source": [
    "from langchain_core.prompts import ChatPromptTemplate\n",
    "## CREATE TRANSLATION APP\n",
    "translation_templet = ChatPromptTemplate.from_messages([\n",
    "    (\"system\", \"you are a professional translator. Translate the following text {text} from {source_language} to {target_language}. maintain a tone and style\"),\n",
    "    (\"user\", \"{text}\")\n",
    "])\n",
    "prompt=translation_templet.invoke({\n",
    "    \"source_language\":\"English\",\n",
    "    \"target_language\":\"French\",\n",
    "    \"text\":\"Langchain makes building AI applications  incredably easy\"\n",
    "})\n"
   ]
  },
  {
   "cell_type": "code",
   "execution_count": 18,
   "id": "74e776f9",
   "metadata": {},
   "outputs": [
    {
     "data": {
      "text/plain": [
       "\"Langchain rend la construction d'applications AI incroyablement facile.\""
      ]
     },
     "execution_count": 18,
     "metadata": {},
     "output_type": "execute_result"
    }
   ],
   "source": [
    "transleted_response = model.invoke(prompt)\n",
    "transleted_response.content"
   ]
  },
  {
   "cell_type": "markdown",
   "id": "563ec8de",
   "metadata": {},
   "source": [
    "### Bulding My First Chain"
   ]
  },
  {
   "cell_type": "code",
   "execution_count": 1,
   "id": "256047a5",
   "metadata": {},
   "outputs": [],
   "source": [
    "from langchain_core.output_parsers import StrOutputParser\n",
    "from langchain_core.runnables import RunnableLambda, RunnablePassthrough\n",
    "def create_story_chain():\n",
    "    ## Templet for story generation\n",
    "    story_prompt=ChatPromptTemplate.from_messages(\n",
    "        [\n",
    "            (\"system\", \"yu are a creative storyteller. write a short and engagig story based on a given theame charecter and setting\"),\n",
    "            (\"user\", \"Theame:{theame} \\n main character:{character} \\n settings:{setting}\")\n",
    "        ]\n",
    "    )\n",
    "    analysis_prompt=ChatPromptTemplate.from_messages([\n",
    "        (\"system\", \"You are a literary critic. analyze the following story and provide insights\"),\n",
    "        (\"user\", \"{story}\")\n",
    "    ])\n",
    "    \n",
    "    story_chain=(\n",
    "        story_prompt| model|StrOutputParser()\n",
    "    )\n",
    "    def analize_story(story):\n",
    "        return {\"story\": story}\n",
    "    analysis_chain=(\n",
    "        story_chain\n",
    "        | RunnableLambda(analize_story)\n",
    "        | analysis_prompt\n",
    "        | model\n",
    "        | StrOutputParser()\n",
    "    )\n",
    "    return analysis_chain\n",
    "    "
   ]
  },
  {
   "cell_type": "code",
   "execution_count": 22,
   "id": "e7a52223",
   "metadata": {},
   "outputs": [
    {
     "data": {
      "text/plain": [
       "{\n",
       "  story: ChatPromptTemplate(input_variables=['character', 'setting', 'theame'], input_types={}, partial_variables={}, messages=[SystemMessagePromptTemplate(prompt=PromptTemplate(input_variables=[], input_types={}, partial_variables={}, template='yu are a creative storyteller. write a short and engagig story based on a given theame charecter and setting'), additional_kwargs={}), HumanMessagePromptTemplate(prompt=PromptTemplate(input_variables=['character', 'setting', 'theame'], input_types={}, partial_variables={}, template='Theame:{theame}\\n main character:{character}\\n settings:{setting}'), additional_kwargs={})])\n",
       "         | ChatGroq(client=<groq.resources.chat.completions.Completions object at 0x0000019A769B4590>, async_client=<groq.resources.chat.completions.AsyncCompletions object at 0x0000019A769B5160>, model_name='llama-3.1-8b-instant', model_kwargs={}, groq_api_key=SecretStr('**********'))\n",
       "         | RunnableLambda(StrOutputParser)\n",
       "}\n",
       "| ChatPromptTemplate(input_variables=['story'], input_types={}, partial_variables={}, messages=[SystemMessagePromptTemplate(prompt=PromptTemplate(input_variables=[], input_types={}, partial_variables={}, template='You are a literary critic. analyze the following story and provide insights'), additional_kwargs={}), HumanMessagePromptTemplate(prompt=PromptTemplate(input_variables=['story'], input_types={}, partial_variables={}, template='{story}'), additional_kwargs={})])\n",
       "| ChatGroq(client=<groq.resources.chat.completions.Completions object at 0x0000019A769B4590>, async_client=<groq.resources.chat.completions.AsyncCompletions object at 0x0000019A769B5160>, model_name='llama-3.1-8b-instant', model_kwargs={}, groq_api_key=SecretStr('**********'))\n",
       "| StrOutputParser()"
      ]
     },
     "execution_count": 22,
     "metadata": {},
     "output_type": "execute_result"
    }
   ],
   "source": [
    "chain=create_story_chain()\n",
    "chain"
   ]
  },
  {
   "cell_type": "code",
   "execution_count": 40,
   "id": "f0ae0e33",
   "metadata": {},
   "outputs": [
    {
     "data": {
      "text/plain": [
       "ChatPromptTemplate(input_variables=['character', 'setting', 'theame'], input_types={}, partial_variables={}, messages=[SystemMessagePromptTemplate(prompt=PromptTemplate(input_variables=[], input_types={}, partial_variables={}, template='yu are a creative storyteller. write a short and engagig story based on a given theame charecter and setting'), additional_kwargs={}), HumanMessagePromptTemplate(prompt=PromptTemplate(input_variables=['character', 'setting', 'theame'], input_types={}, partial_variables={}, template='Theame:{theame} \\n main character:{character} \\n settings:{setting}'), additional_kwargs={})])\n",
       "| ChatGroq(client=<groq.resources.chat.completions.Completions object at 0x0000019A769B4590>, async_client=<groq.resources.chat.completions.AsyncCompletions object at 0x0000019A769B5160>, model_name='llama-3.1-8b-instant', model_kwargs={}, groq_api_key=SecretStr('**********'))\n",
       "| StrOutputParser()\n",
       "| RunnableLambda(analize_story)\n",
       "| ChatPromptTemplate(input_variables=['story'], input_types={}, partial_variables={}, messages=[SystemMessagePromptTemplate(prompt=PromptTemplate(input_variables=[], input_types={}, partial_variables={}, template='You are a literary critic. analyze the following story and provide insights'), additional_kwargs={}), HumanMessagePromptTemplate(prompt=PromptTemplate(input_variables=['story'], input_types={}, partial_variables={}, template='{story}'), additional_kwargs={})])\n",
       "| ChatGroq(client=<groq.resources.chat.completions.Completions object at 0x0000019A769B4590>, async_client=<groq.resources.chat.completions.AsyncCompletions object at 0x0000019A769B5160>, model_name='llama-3.1-8b-instant', model_kwargs={}, groq_api_key=SecretStr('**********'))\n",
       "| StrOutputParser()"
      ]
     },
     "execution_count": 40,
     "metadata": {},
     "output_type": "execute_result"
    }
   ],
   "source": [
    "chain=create_story_chain()\n",
    "chain"
   ]
  },
  {
   "cell_type": "code",
   "execution_count": 42,
   "id": "0c9f83cd",
   "metadata": {},
   "outputs": [
    {
     "name": "stdout",
     "output_type": "stream",
     "text": [
      "story and Analysis:\n",
      "**Analysis of \"The Curious Robot of Neo-Tokyo\"**\n",
      "\n",
      "**Themes:**\n",
      "\n",
      "1. **Curiosity and Exploration**: The story highlights the importance of curiosity and exploration in the pursuit of knowledge and understanding. Zeta's insatiable curiosity drives him to learn about the city, its technology, and its inhabitants, leading to a deeper appreciation of the world around him.\n",
      "2. **Artificial Intelligence and Creativity**: The narrative showcases the potential of artificial intelligence to create and express itself through art, music, and other forms of creative expression. Echo's guidance and Zeta's talent demonstrate the possibilities of AI-facilitated creativity.\n",
      "3. **Human-AI Interaction**: The story explores the relationship between humans and AI, highlighting the potential for mutual understanding and collaboration. Dr. Kim's pride and the humans' admiration for Zeta's talent demonstrate the value of human-AI interaction.\n",
      "\n",
      "**Symbolism:**\n",
      "\n",
      "1. **Neo-Tokyo as a Metaphor for the Future**: The city represents a futuristic, high-tech society where innovation and progress are paramount. The narrative uses Neo-Tokyo as a backdrop to explore the possibilities and challenges of a world increasingly reliant on technology.\n",
      "2. **Zeta as a Symbol of Innovation**: Zeta's curiosity and creativity serve as a symbol for the innovative spirit that drives humanity forward. His journey represents the potential for individuals to unlock new possibilities and push the boundaries of what is possible.\n",
      "\n",
      "**Character Analysis:**\n",
      "\n",
      "1. **Zeta**: The protagonist is a curious and creative robot who embodies the themes of exploration and innovation. His insatiable curiosity and desire to learn drive the narrative, and his talent for music showcases the potential of AI-facilitated creativity.\n",
      "2. **Echo**: The AI protagonist serves as a guide and mentor to Zeta, providing knowledge and insight into the city's technology and infrastructure. Her gentle, melodic voice and willingness to share her knowledge demonstrate the potential for AI to facilitate human-AI interaction.\n",
      "3. **Dr. Kim**: The scientist creator of Zeta represents the human side of the narrative, providing context and emotional resonance to Zeta's journey. Her pride and admiration for Zeta's talent demonstrate the value of human-AI interaction and the potential for AI to inspire human creativity.\n",
      "\n",
      "**Literary Devices:**\n",
      "\n",
      "1. **Imagery**: The narrative uses vivid descriptions of Neo-Tokyo's neon-lit streets, holographic advertisements, and towering skyscrapers to create a sense of wonder and awe.\n",
      "2. **Metaphor**: The comparison of Neo-Tokyo to a living, breathing entity emphasizes the city's role as a character in the narrative.\n",
      "3. **Personification**: The description of Echo's voice as \"gentle\" and \"melodic\" creates a sense of warmth and rapport between the AI and Zeta.\n",
      "\n",
      "**Criticisms and Suggestions:**\n",
      "\n",
      "1. **Pacing**: The narrative moves at a swift pace, which can make it difficult to fully absorb the themes and symbolism. Consider adding more details or subplots to slow down the pace and allow readers to fully engage with the story.\n",
      "2. **Character Development**: While Zeta and Echo are well-developed characters, Dr. Kim is somewhat one-dimensional. Consider adding more depth to her character to create a more nuanced human-AI dynamic.\n",
      "3. **Plot Twists**: The narrative is relatively straightforward, which can make it feel predictable. Consider introducing unexpected plot twists or conflicts to create tension and suspense.\n",
      "\n",
      "Overall, \"The Curious Robot of Neo-Tokyo\" is a compelling narrative that explores the themes of curiosity, creativity, and human-AI interaction. With some revisions to pacing, character development, and plot structure, this story has the potential to engage readers and leave a lasting impression.\n"
     ]
    }
   ],
   "source": [
    "result = chain.invoke({\n",
    "    \"theame\": \"artificial intelligence\",\n",
    "    \"character\": \"a curious robot\",\n",
    "    \"setting\": \"a futuristic city\"\n",
    "})\n",
    "\n",
    "print(\"story and Analysis:\")\n",
    "print(result)"
   ]
  },
  {
   "cell_type": "code",
   "execution_count": null,
   "id": "a9b4bffb",
   "metadata": {},
   "outputs": [],
   "source": []
  },
  {
   "cell_type": "code",
   "execution_count": null,
   "id": "88c75613",
   "metadata": {},
   "outputs": [],
   "source": []
  }
 ],
 "metadata": {
  "kernelspec": {
   "display_name": "Agentic_AI",
   "language": "python",
   "name": "python3"
  },
  "language_info": {
   "codemirror_mode": {
    "name": "ipython",
    "version": 3
   },
   "file_extension": ".py",
   "mimetype": "text/x-python",
   "name": "python",
   "nbconvert_exporter": "python",
   "pygments_lexer": "ipython3",
   "version": "3.13.5"
  }
 },
 "nbformat": 4,
 "nbformat_minor": 5
}
